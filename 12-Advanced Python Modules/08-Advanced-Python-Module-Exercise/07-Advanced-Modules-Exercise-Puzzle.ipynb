{
 "cells": [
  {
   "cell_type": "markdown",
   "metadata": {},
   "source": [
    "___\n",
    "\n",
    "<a href='https://www.udemy.com/user/joseportilla/'><img src='../../Pierian_Data_Logo.png'/></a>\n",
    "___\n",
    "<center><em>Content Copyright by Pierian Data</em></center>"
   ]
  },
  {
   "cell_type": "markdown",
   "metadata": {},
   "source": [
    "# Advanced Modules Exercise Puzzle\n",
    "\n",
    "It's time to test your new skills, this puzzle project will combine multiple skills sets, including unzipping files with Python, using os module to automatically search through lots of files.\n",
    "\n",
    "## Your Goal\n",
    "\n",
    "This is a puzzle, so we don't want to give you too much guidance and instead have you figure out things on your own.\n",
    "\n",
    "There is a .zip file called 'unzip_me_for_instructions.zip', unzip it, open the .txt file with Python, read the instructions and see if you can figure out what you need to do!\n",
    "\n",
    "**If you get stuck or don't know where to start, here is a [guide/hints](https://docs.google.com/document/d/1JxydUr4n4fSR0EwwuwT-aHia-yPK6r-oTBuVT2sqheo/edit?usp=sharing)**"
   ]
  },
  {
   "cell_type": "code",
   "execution_count": null,
   "metadata": {},
   "outputs": [],
   "source": [
    "import shutil"
   ]
  },
  {
   "cell_type": "code",
   "execution_count": 3,
   "metadata": {},
   "outputs": [
    {
     "data": {
      "text/plain": [
       "'C:\\\\Users\\\\Angel\\\\Documents\\\\Complete-Python-3-Bootcamp\\\\12-Advanced Python Modules\\\\08-Advanced-Python-Module-Exercise'"
      ]
     },
     "execution_count": 3,
     "metadata": {},
     "output_type": "execute_result"
    }
   ],
   "source": [
    "pwd"
   ]
  },
  {
   "cell_type": "code",
   "execution_count": 11,
   "metadata": {},
   "outputs": [],
   "source": [
    "shutil.unpack_archive('unzip_me_for_instructions.zip','instrucciones_unzip','zip')"
   ]
  },
  {
   "cell_type": "code",
   "execution_count": 12,
   "metadata": {},
   "outputs": [],
   "source": [
    "import os"
   ]
  },
  {
   "cell_type": "code",
   "execution_count": 13,
   "metadata": {},
   "outputs": [
    {
     "data": {
      "text/plain": [
       "['.ipynb_checkpoints',\n",
       " '07-Advanced-Modules-Exercise-Puzzle.ipynb',\n",
       " '08-Advanced-Modules-Exercise-Solutions.ipynb',\n",
       " 'extracted_content',\n",
       " 'instrucciones_unzip',\n",
       " 'unzip_me_for_instructions.zip']"
      ]
     },
     "execution_count": 13,
     "metadata": {},
     "output_type": "execute_result"
    }
   ],
   "source": [
    "os.listdir()"
   ]
  },
  {
   "cell_type": "code",
   "execution_count": 17,
   "metadata": {},
   "outputs": [
    {
     "data": {
      "text/plain": [
       "['Five', 'Four', 'Instructions.txt', 'One', 'Three', 'Two']"
      ]
     },
     "execution_count": 17,
     "metadata": {},
     "output_type": "execute_result"
    }
   ],
   "source": [
    "os.listdir('C:\\\\Users\\\\Angel\\\\Documents\\\\Complete-Python-3-Bootcamp\\\\12-Advanced Python Modules\\\\08-Advanced-Python-Module-Exercise\\\\instrucciones_unzip\\\\extracted_content')"
   ]
  },
  {
   "cell_type": "code",
   "execution_count": 18,
   "metadata": {},
   "outputs": [],
   "source": [
    "directorio = 'C:\\\\Users\\\\Angel\\\\Documents\\\\Complete-Python-3-Bootcamp\\\\12-Advanced Python Modules\\\\08-Advanced-Python-Module-Exercise\\\\instrucciones_unzip\\\\extracted_content'"
   ]
  },
  {
   "cell_type": "code",
   "execution_count": 22,
   "metadata": {},
   "outputs": [
    {
     "name": "stdout",
     "output_type": "stream",
     "text": [
      "C:\\Users\\Angel\\Documents\\Complete-Python-3-Bootcamp\\12-Advanced Python Modules\\08-Advanced-Python-Module-Exercise\\instrucciones_unzip\\extracted_content\n",
      "\tFive\n",
      "\tFour\n",
      "\tOne\n",
      "\tThree\n",
      "\tTwo\n",
      "\tInstructions.txt\n",
      "siguiente folder\n",
      "C:\\Users\\Angel\\Documents\\Complete-Python-3-Bootcamp\\12-Advanced Python Modules\\08-Advanced-Python-Module-Exercise\\instrucciones_unzip\\extracted_content\\Five\n",
      "\tAEITMYIRQLP.txt\n",
      "\tAPJKSRITGGX.txt\n",
      "\tAQKATDFGXTS.txt\n",
      "\tARLKFCWIAJE.txt\n",
      "\tAXJGVPVEFAS.txt\n",
      "\tBNUQEHCFRTG.txt\n",
      "\tBSKJDRNEZQM.txt\n",
      "\tBTYWAHLHKBM.txt\n",
      "\tBUGKBZWRRVI.txt\n",
      "\tBVBURZZCAPR.txt\n",
      "\tCAHBEVSVDDN.txt\n",
      "\tCOMGMZBJAYE.txt\n",
      "\tCRFSDGYFSHA.txt\n",
      "\tCSCLFZCDYYC.txt\n",
      "\tCXBVCTRBBIE.txt\n",
      "\tDDLASODUVPX.txt\n",
      "\tDHZBAAYEADM.txt\n",
      "\tDQPZQLBCJYP.txt\n",
      "\tDYOPIIVMZOO.txt\n",
      "\tDZUWWXYIAEL.txt\n",
      "\tEAAOEPSAWMQ.txt\n",
      "\tEIPWXMQZJKU.txt\n",
      "\tESIZWBHMGDP.txt\n",
      "\tETCUEXWNBCF.txt\n",
      "\tEYTCGIOYWIW.txt\n",
      "siguiente folder\n",
      "C:\\Users\\Angel\\Documents\\Complete-Python-3-Bootcamp\\12-Advanced Python Modules\\08-Advanced-Python-Module-Exercise\\instrucciones_unzip\\extracted_content\\Four\n",
      "\tECIOBYCDVFI.txt\n",
      "\tEMTGPSXQEJX.txt\n",
      "\tEPRNUHRSESC.txt\n",
      "\tESDIZXHYCVY.txt\n",
      "\tEXVQSVBQQQH.txt\n",
      "\tQCTCKDIBBVG.txt\n",
      "\tQCWCFLKNZMN.txt\n",
      "\tQDDETWBHJYC.txt\n",
      "\tQTDYYIFPHAU.txt\n",
      "\tQVNJULGXNUM.txt\n",
      "\tREAXWSOIQDY.txt\n",
      "\tROICPTWKXDX.txt\n",
      "\tRSXOTNGKBML.txt\n",
      "\tRXDARIDGKBF.txt\n",
      "\tRYNXFYXMKHG.txt\n",
      "\tTAKNAVDMZKV.txt\n",
      "\tTHPNEGKTJWI.txt\n",
      "\tTJFMLJODVAD.txt\n",
      "\tTKCZSFQNJTX.txt\n",
      "\tTWUOYFCCYBQ.txt\n",
      "\tWFSKPTXPFCH.txt\n",
      "\tWHTOHQUWXIN.txt\n",
      "\tWNJISWPEBRS.txt\n",
      "\tWXDJDOGZEHN.txt\n",
      "\tWYDLGSGGXKV.txt\n",
      "siguiente folder\n",
      "C:\\Users\\Angel\\Documents\\Complete-Python-3-Bootcamp\\12-Advanced Python Modules\\08-Advanced-Python-Module-Exercise\\instrucciones_unzip\\extracted_content\\One\n",
      "\tHDOHZHFSTTK.txt\n",
      "\tHFUTPPAXDIS.txt\n",
      "\tHMNZTLIFGPD.txt\n",
      "\tHRQFTHKVJTL.txt\n",
      "\tHVUTZEVMSBW.txt\n",
      "\tJDLRVFCXYLU.txt\n",
      "\tJEHBLZPUPSP.txt\n",
      "\tJLTXKIGCWDL.txt\n",
      "\tJQUOBKFUACN.txt\n",
      "\tJTHSNBNPQSE.txt\n",
      "\tKCXGNQCZBLO.txt\n",
      "\tKFIUZFERLET.txt\n",
      "\tKMMLGJOWLGI.txt\n",
      "\tKNBSKDREHQU.txt\n",
      "\tKTXDHIOKAUI.txt\n",
      "\tLDGOCUQJNNS.txt\n",
      "\tLFEATJAAYDC.txt\n",
      "\tLHODFIKVTQA.txt\n",
      "\tLIFDHOFKWOI.txt\n",
      "\tLPNDVDXPZIG.txt\n",
      "\tPDJMSMNKIRM.txt\n",
      "\tPHWAVPEKAER.txt\n",
      "\tPLYCGPVEAWO.txt\n",
      "\tPQNVCVJINAR.txt\n",
      "\tPTOBBCJYURJ.txt\n",
      "siguiente folder\n",
      "C:\\Users\\Angel\\Documents\\Complete-Python-3-Bootcamp\\12-Advanced Python Modules\\08-Advanced-Python-Module-Exercise\\instrucciones_unzip\\extracted_content\\Three\n",
      "\tVAQIJTDOFUJ.txt\n",
      "\tVCFJCGJFBIH.txt\n",
      "\tVSXFSTABZDY.txt\n",
      "\tVVHFVZUNLOO.txt\n",
      "\tVVKGWLRMHLU.txt\n",
      "\tXAJMCPEWFNI.txt\n",
      "\tXFHJOTNPEJG.txt\n",
      "\tXHZPVUQTXIO.txt\n",
      "\tXJCWENFFGHB.txt\n",
      "\tXVMPVSVYKFR.txt\n",
      "\tYCESZHJDBXH.txt\n",
      "\tYDQFMWXOUMW.txt\n",
      "\tYQBIUHSUEVW.txt\n",
      "\tYQRNCMNFFHW.txt\n",
      "\tYYIZGBTQHZP.txt\n",
      "\tZEZKKRBIZEB.txt\n",
      "\tZKQJXAYKPVD.txt\n",
      "\tZOWVXWPOGWP.txt\n",
      "\tZXEZRQXZNPG.txt\n",
      "\tZXIBJMPROKW.txt\n",
      "siguiente folder\n",
      "C:\\Users\\Angel\\Documents\\Complete-Python-3-Bootcamp\\12-Advanced Python Modules\\08-Advanced-Python-Module-Exercise\\instrucciones_unzip\\extracted_content\\Two\n",
      "\tGKQBQRCTNNK.txt\n",
      "\tGMMQQUBMJNR.txt\n",
      "\tGQTJJORZBXY.txt\n",
      "\tGTOTCIWMDBY.txt\n",
      "\tGXYSEPAFRTP.txt\n",
      "\tHARDNJGDRBC.txt\n",
      "\tHEORIXOTANT.txt\n",
      "\tHMUTDOVNYTV.txt\n",
      "\tHMZXPBOPRAE.txt\n",
      "\tHTOHSTYXTCO.txt\n",
      "\tLCJZYDHBFRM.txt\n",
      "\tLSQSTGPIGIY.txt\n",
      "\tLULTNYAQEJG.txt\n",
      "\tLVMBINRBJXL.txt\n",
      "\tLYZEQCVYNEZ.txt\n",
      "\tOHZOUOSFJQC.txt\n",
      "\tOIHMLGMWTHL.txt\n",
      "\tOKWFOOYTXFU.txt\n",
      "\tOMWIMVRCMYM.txt\n",
      "\tOYMAGXAGWHJ.txt\n",
      "\tSIKFPPLCJDN.txt\n",
      "\tSJMJLDGPBSJ.txt\n",
      "\tSOFUJYXTIMK.txt\n",
      "\tSPDZYGDHEWO.txt\n",
      "\tSWOFXREEHWA.txt\n",
      "siguiente folder\n"
     ]
    }
   ],
   "source": [
    "for folder,subfolders,files in os.walk(directorio):\n",
    "    print(folder)\n",
    "    for subfolder in subfolders:\n",
    "        print('\\t' + subfolder)\n",
    "    for file in files:\n",
    "        print('\\t' + file)\n",
    "    print('siguiente folder')"
   ]
  },
  {
   "cell_type": "code",
   "execution_count": 36,
   "metadata": {},
   "outputs": [],
   "source": [
    "import re\n",
    "import pdb"
   ]
  },
  {
   "cell_type": "code",
   "execution_count": null,
   "metadata": {},
   "outputs": [],
   "source": [
    "pattern(r'\\d{3}-\\d{3}')"
   ]
  },
  {
   "cell_type": "code",
   "execution_count": 24,
   "metadata": {},
   "outputs": [
    {
     "data": {
      "text/plain": [
       "'C:\\\\Users\\\\Angel\\\\Documents\\\\Complete-Python-3-Bootcamp\\\\12-Advanced Python Modules\\\\08-Advanced-Python-Module-Exercise'"
      ]
     },
     "execution_count": 24,
     "metadata": {},
     "output_type": "execute_result"
    }
   ],
   "source": [
    "pwd"
   ]
  },
  {
   "cell_type": "code",
   "execution_count": 26,
   "metadata": {},
   "outputs": [
    {
     "data": {
      "text/plain": [
       "['Five', 'Four', 'Instructions.txt', 'One', 'Three', 'Two']"
      ]
     },
     "execution_count": 26,
     "metadata": {},
     "output_type": "execute_result"
    }
   ],
   "source": [
    "os.listdir(directorio)"
   ]
  },
  {
   "cell_type": "code",
   "execution_count": 51,
   "metadata": {},
   "outputs": [],
   "source": [
    "match = []\n",
    "for folder,subfolders,files in os.walk(directorio):\n",
    "\n",
    "    if len(files):\n",
    "        for file in files:\n",
    "#             pdb.set_trace()\n",
    "            f = open(folder + \"\\\\\" + file,'r')\n",
    "            s = f.read()\n",
    "            f.close()\n",
    "            if re.search(r'\\d{3}-\\d{3}-\\d{4}',s):\n",
    "                match.append(re.search(r'\\d{3}-\\d{3}-\\d{4}',s))\n",
    "\n",
    "#             if match:\n",
    "#                 print(folder)\n",
    "#                 print(file)\n",
    "#                 break\n",
    "#         if match:\n",
    "#             break\n",
    "# match.group()"
   ]
  },
  {
   "cell_type": "code",
   "execution_count": 56,
   "metadata": {},
   "outputs": [
    {
     "name": "stdout",
     "output_type": "stream",
     "text": [
      "719-266-2837\n"
     ]
    }
   ],
   "source": [
    "print(match[0].group())"
   ]
  }
 ],
 "metadata": {
  "anaconda-cloud": {},
  "kernelspec": {
   "display_name": "Python 3",
   "language": "python",
   "name": "python3"
  },
  "language_info": {
   "codemirror_mode": {
    "name": "ipython",
    "version": 3
   },
   "file_extension": ".py",
   "mimetype": "text/x-python",
   "name": "python",
   "nbconvert_exporter": "python",
   "pygments_lexer": "ipython3",
   "version": "3.8.3"
  }
 },
 "nbformat": 4,
 "nbformat_minor": 2
}
