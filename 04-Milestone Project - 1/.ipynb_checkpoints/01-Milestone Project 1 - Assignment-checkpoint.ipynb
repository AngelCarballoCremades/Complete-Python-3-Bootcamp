{
 "cells": [
  {
   "cell_type": "markdown",
   "metadata": {},
   "source": [
    "___\n",
    "\n",
    "<a href='https://www.udemy.com/user/joseportilla/'><img src='../Pierian_Data_Logo.png'/></a>\n",
    "___\n",
    "<center><em>Content Copyright by Pierian Data</em></center>"
   ]
  },
  {
   "cell_type": "markdown",
   "metadata": {},
   "source": [
    "# Milestone Project 1\n",
    "## Congratulations on making it to your first milestone!\n",
    "You've already learned a ton and are ready to work on a real project.\n",
    "\n",
    "Your assignment: Create a Tic Tac Toe game. You are free to use any IDE you like.\n",
    "\n",
    "Here are the requirements:\n",
    "\n",
    "* 2 players should be able to play the game (both sitting at the same computer)\n",
    "* The board should be printed out every time a player makes a move\n",
    "* You should be able to accept input of the player position and then place a symbol on the board\n",
    "\n",
    "Feel free to use Google to help you figure anything out (but don't just Google \"Tic Tac Toe in Python\" otherwise you won't learn anything!) Keep in mind that this project can take anywhere between several hours to several days.\n",
    "\n",
    "There are 4 Jupyter Notebooks related to this assignment:\n",
    "\n",
    "* This Assignment Notebook\n",
    "* A \"Walkthrough Steps Workbook\" Notebook\n",
    "* A \"Complete Walkthrough Solution\" Notebook\n",
    "* An \"Advanced Solution\" Notebook\n",
    "\n",
    "I encourage you to just try to start the project on your own without referencing any of the notebooks. If you get stuck, check out the next lecture which is a text lecture with helpful hints and steps. If you're still stuck after that, then check out the Walkthrough Steps Workbook, which breaks up the project in steps for you to solve. Still stuck? Then check out the Complete Walkthrough Solution video for more help on approaching the project!"
   ]
  },
  {
   "cell_type": "markdown",
   "metadata": {},
   "source": [
    "There are parts of this that will be a struggle...and that is good! I have complete faith that if you have made it this far through the course you have all the tools and knowledge to tackle this project. Remember, it's totally open book, so take your time, do a little research, and remember:\n",
    "\n",
    "## HAVE FUN!"
   ]
  },
  {
   "cell_type": "code",
   "execution_count": 126,
   "metadata": {},
   "outputs": [],
   "source": [
    "from IPython.display import clear_output\n",
    "\n",
    "def inicio():\n",
    "    marca = ''\n",
    "    while marca not in ['X','O']:\n",
    "        marca = input('¿Qué símbolo eliges? (X,O): ')\n",
    "        \n",
    "        if marca not in ['X','O']:\n",
    "            clear_output()\n",
    "            print('Símbolo no válido, repite la selección')\n",
    "\n",
    "    if marca == 'X':\n",
    "        marca = ['X','O']\n",
    "    else:\n",
    "        marca = ['O','X']\n",
    "    \n",
    "    clear_output()\n",
    "    return marca\n",
    "            "
   ]
  },
  {
   "cell_type": "code",
   "execution_count": 127,
   "metadata": {},
   "outputs": [],
   "source": [
    "def display_single(board):\n",
    "    \n",
    "    print(f' {board[0][0]} | {board[0][1]} | {board[0][2]} ')\n",
    "    print('-----------')\n",
    "    print(f' {board[1][0]} | {board[1][1]} | {board[1][2]} ')\n",
    "    print('-----------')\n",
    "    print(f' {board[2][0]} | {board[2][1]} | {board[2][2]} ')"
   ]
  },
  {
   "cell_type": "code",
   "execution_count": 128,
   "metadata": {},
   "outputs": [],
   "source": [
    "def display_guide(board):\n",
    "    guide = [['7','8','9'],['4','5','6'],['1','2','3']]\n",
    "    \n",
    "    print(f' {board[0][0]} | {board[0][1]} | {board[0][2]}           {guide[0][0]} | {guide[0][1]} | {guide[0][2]} ')\n",
    "    print('-----------         -----------')\n",
    "    print(f' {board[1][0]} | {board[1][1]} | {board[1][2]}  ------>  {guide[1][0]} | {guide[1][1]} | {guide[1][2]} ')\n",
    "    print('-----------         -----------')\n",
    "    print(f' {board[2][0]} | {board[2][1]} | {board[2][2]}           {guide[2][0]} | {guide[2][1]} | {guide[2][2]} ')"
   ]
  },
  {
   "cell_type": "code",
   "execution_count": 129,
   "metadata": {},
   "outputs": [],
   "source": [
    "def choose_position(b,tic):\n",
    "    \n",
    "    def valid_choise(x):\n",
    "        d_val = {'1':b[2][0],'2':b[2][1],'3':b[2][2],'4':b[1][0],'5':b[1][1],'6':b[1][2],'7':b[0][0],'8':b[0][1],'9':b[0][2]}\n",
    "        return d_val[x] not in ['X','O']\n",
    "        \n",
    "    x = 0\n",
    "    valid = False\n",
    "    while x not in range(1,10) and valid == False:\n",
    "        display_guide(b)\n",
    "        x = input(f'Elige una posición (jugador {tic}): ')\n",
    "        clear_output()\n",
    "        \n",
    "        if x not in ['1','2','3','4','5','6','7','8','9']:\n",
    "            print('Valor no válido, escoge otro por favor')\n",
    "            continue\n",
    "        if not valid_choise(x):\n",
    "            print('Ese lugar ya fue utilizado, escoge otro por favor')\n",
    "            continue\n",
    "        elif valid_choise(x):\n",
    "            valid = True\n",
    "    return x\n",
    "        "
   ]
  },
  {
   "cell_type": "code",
   "execution_count": 130,
   "metadata": {},
   "outputs": [],
   "source": [
    "def board_mod(x,tic,board):\n",
    "    d = {'1':[2,0],'2':[2,1],'3':[2,2],'4':[1,0],'5':[1,1],'6':[1,2],'7':[0,0],'8':[0,1],'9':[0,2]}\n",
    "    place = [d[x][0],d[x][1]]\n",
    "    board[place[0]][place[1]] = tic\n",
    "    \n",
    "    return board\n",
    "    "
   ]
  },
  {
   "cell_type": "code",
   "execution_count": 131,
   "metadata": {},
   "outputs": [],
   "source": [
    "def es_el_fin(brd):\n",
    "    winner = ' '\n",
    "\n",
    "    for j in range(3):   #revisión de cada renglón (horzontal)\n",
    "        if brd[j][0] == brd[j][1] and brd[j][1] == brd[j][2]:\n",
    "            winner =brd[j][0]\n",
    "        \n",
    "    for j in range(3):   #revisión de cada columna (vertical)\n",
    "        if brd[0][j] == brd[1][j] and brd[1][j] == brd[2][j]:\n",
    "            winner = brd[0][j]\n",
    "        \n",
    "    if brd[0][0] == brd[1][1] and brd[1][1] == brd[2][2]:  #revisión de diagonal \\\n",
    "            winner = brd[1][1]\n",
    "    elif brd[0][2] == brd[1][1] and brd[1][1] == brd[2][0]: #revisión de diagonal /\n",
    "            winner = brd[1][1]\n",
    "\n",
    "    if winner != ' ':\n",
    "        return True,winner\n",
    "    else:\n",
    "        return False,winner"
   ]
  },
  {
   "cell_type": "code",
   "execution_count": 132,
   "metadata": {},
   "outputs": [],
   "source": [
    "def empate(board):\n",
    "    \n",
    "    for i in range(3):\n",
    "        if ' ' in board[i]:\n",
    "            return False\n",
    "    \n",
    "    return True"
   ]
  },
  {
   "cell_type": "code",
   "execution_count": 136,
   "metadata": {},
   "outputs": [
    {
     "name": "stdout",
     "output_type": "stream",
     "text": [
      "Empate!!\n",
      " O | X | O \n",
      "-----------\n",
      " X | O | O \n",
      "-----------\n",
      " X | O | X \n"
     ]
    }
   ],
   "source": [
    "# preguntar si es X o O\n",
    "a,b = inicio()\n",
    "x = ''\n",
    "\n",
    "\n",
    "board = [[' ',' ',' '],[' ',' ',' '],[' ',' ',' ']]\n",
    "fin = False\n",
    "\n",
    "while fin == False:\n",
    "\n",
    "    x = choose_position(board,a)  #jugador 1 elige\n",
    "    \n",
    "    board = board_mod(x,a,board)  #Modificación de tablero\n",
    "    \n",
    "    fin,ganador = es_el_fin(board)\n",
    "    if fin:\n",
    "        break\n",
    "    if empate(board):\n",
    "        break\n",
    "    \n",
    "    x = choose_position(board,b)  #jugador 2 elige \n",
    "    \n",
    "    board = board_mod(x,b,board)  #Modificación de tablero\n",
    "\n",
    "    fin,ganador = es_el_fin(board)\n",
    "\n",
    "if fin:\n",
    "    print(f'El ganador es {ganador}')\n",
    "    display_single(board)\n",
    "else:\n",
    "    print('Empate!!')\n",
    "    display_single(board)"
   ]
  },
  {
   "cell_type": "code",
   "execution_count": null,
   "metadata": {},
   "outputs": [],
   "source": []
  }
 ],
 "metadata": {
  "kernelspec": {
   "display_name": "Python 3",
   "language": "python",
   "name": "python3"
  },
  "language_info": {
   "codemirror_mode": {
    "name": "ipython",
    "version": 3
   },
   "file_extension": ".py",
   "mimetype": "text/x-python",
   "name": "python",
   "nbconvert_exporter": "python",
   "pygments_lexer": "ipython3",
   "version": "3.8.3"
  }
 },
 "nbformat": 4,
 "nbformat_minor": 1
}
